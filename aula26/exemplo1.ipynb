{
 "cells": [
  {
   "cell_type": "code",
   "execution_count": 1,
   "metadata": {},
   "outputs": [
    {
     "name": "stdout",
     "output_type": "stream",
     "text": [
      "Carregando os dados...\n",
      "   cisp  mes   ano  mes_ano  aisp  risp           munic    mcirc   regiao  \\\n",
      "0     1    1  2003  2003m01     5     1  Rio de Janeiro  3304557  Capital   \n",
      "1     4    1  2003  2003m01     5     1  Rio de Janeiro  3304557  Capital   \n",
      "2     5    1  2003  2003m01     5     1  Rio de Janeiro  3304557  Capital   \n",
      "3     6    1  2003  2003m01     1     1  Rio de Janeiro  3304557  Capital   \n",
      "4     7    1  2003  2003m01     1     1  Rio de Janeiro  3304557  Capital   \n",
      "\n",
      "   hom_doloso  ...  cmp  cmba  ameaca  pessoas_desaparecidas  \\\n",
      "0           0  ...  NaN   NaN      21                      2   \n",
      "1           3  ...  NaN   NaN      15                      6   \n",
      "2           3  ...  NaN   NaN      47                      2   \n",
      "3           6  ...  NaN   NaN      26                      2   \n",
      "4           4  ...  NaN   NaN      10                      1   \n",
      "\n",
      "   encontro_cadaver  encontro_ossada  pol_militares_mortos_serv  \\\n",
      "0                 0                0                          0   \n",
      "1                 0                1                          0   \n",
      "2                 1                0                          0   \n",
      "3                 1                0                          0   \n",
      "4                 3                0                          0   \n",
      "\n",
      "   pol_civis_mortos_serv  registro_ocorrencias  fase  \n",
      "0                      0                   578     3  \n",
      "1                      0                   441     3  \n",
      "2                      0                   637     3  \n",
      "3                      0                   473     3  \n",
      "4                      0                   147     3  \n",
      "\n",
      "[5 rows x 63 columns]\n",
      "Dados carregados com sucesso!\n"
     ]
    }
   ],
   "source": [
    "import pandas as pd\n",
    "import numpy as np \n",
    "\n",
    "ENDERECO_DADOS = 'https://www.ispdados.rj.gov.br/Arquivos/BaseDPEvolucaoMensalCisp.csv'\n",
    "\n",
    "try:\n",
    "    print('Carregando os dados...')\n",
    "    df_ocorrencia = pd.read_csv(ENDERECO_DADOS, sep=';', encoding='iso-8859-1')\n",
    "\n",
    "    print(df_ocorrencia.head())\n",
    "\n",
    "    print('Dados carregados com sucesso!')\n",
    "except Exception as e:\n",
    "    print(f'Erro ao carregar os dados: {e}')\n",
    "    exit()"
   ]
  },
  {
   "cell_type": "code",
   "execution_count": 4,
   "metadata": {},
   "outputs": [
    {
     "name": "stdout",
     "output_type": "stream",
     "text": [
      "     cisp  roubo_veiculo  recuperacao_veiculos\n",
      "0       1            565                   536\n",
      "1       4           2165                  1903\n",
      "2       5           1316                  1546\n",
      "3       6           4516                  7974\n",
      "4       7           1997                  1824\n",
      "..    ...            ...                   ...\n",
      "133   159            283                   338\n",
      "134   165            500                   647\n",
      "135   166            968                  1487\n",
      "136   167            105                   399\n",
      "137   168             62                   165\n",
      "\n",
      "[138 rows x 3 columns]\n"
     ]
    }
   ],
   "source": [
    "#recebendo dados \n",
    "\n",
    "try: \n",
    "\n",
    "    df_veiculos = df_ocorrencia[['cisp', 'roubo_veiculo', 'recuperacao_veiculos']] \n",
    "\n",
    "    df_total_veiculos = df_veiculos.groupby('cisp').sum(['roubo', 'recuperacao_veiculos']).reset_index() \n",
    "\n",
    "    print(df_total_veiculos) \n",
    "\n",
    " \n",
    "except Exception as e: \n",
    "\n",
    "    print(f'Erro: {e}') \n",
    "\n",
    "    exit() \n"
   ]
  },
  {
   "cell_type": "code",
   "execution_count": 5,
   "metadata": {},
   "outputs": [
    {
     "name": "stdout",
     "output_type": "stream",
     "text": [
      "Correlação: 0.24\n"
     ]
    }
   ],
   "source": [
    "try:\n",
    "    df_total_veiculos_cut = (\n",
    "        df_total_veiculos[df_total_veiculos['roubo_veiculo'] < np.percentile(df_veiculos['roubo_veiculo'], 95)]\n",
    "    )\n",
    "\n",
    "    df_total_veiculos_cut = (\n",
    "        \n",
    "        df_total_veiculos_cut[df_total_veiculos_cut['recuperacao_veiculos'] < np.percentile(df_veiculos['recuperacao_veiculos'], 99)]\n",
    "    )\n",
    "\n",
    "#array\n",
    "    \n",
    "    array_roubo_veiculo = np.array(df_total_veiculos_cut['roubo_veiculo'])\n",
    "\n",
    "    array_recuperacao_veiculo = np.array(df_total_veiculos_cut['recuperacao_veiculos'])\n",
    "\n",
    "    correlacao = np.corrcoef(array_roubo_veiculo, array_recuperacao_veiculo)[0, 1]\n",
    "\n",
    "    print(f'Correlação: {correlacao:.2f}')\n",
    "\n",
    "except Exception as e:\n",
    "    print(f'Erro ao processar os dados cut: {e}')\n",
    "    exit()"
   ]
  },
  {
   "cell_type": "code",
   "execution_count": 6,
   "metadata": {},
   "outputs": [
    {
     "name": "stdout",
     "output_type": "stream",
     "text": [
      "Iniciando a regressão linear...\n",
      "R² score: -0.26\n"
     ]
    }
   ],
   "source": [
    "try:\n",
    "     # pip install scikit-learn\n",
    "    print('Iniciando a regressão linear...')\n",
    "\n",
    "    from sklearn.model_selection import train_test_split\n",
    "    X_train, X_test, y_train, y_test = train_test_split(\n",
    "        array_roubo_veiculo,  # Variável independente\n",
    "        array_recuperacao_veiculo,  # Variável dependente\n",
    "        test_size=0.2,  # 80% treino, 20% teste\n",
    "        random_state=42  # Para reprodutibilidade\n",
    "    )\n",
    "\n",
    "    # Normalizando os dados\n",
    "    from sklearn.preprocessing import StandardScaler\n",
    "    scaler = StandardScaler()\n",
    "    X_train = scaler.fit_transform(X_train.reshape(-1, 1))\n",
    "    X_test = scaler.transform(X_test.reshape(-1, 1))\n",
    "\n",
    "    # Treinando o modelo\n",
    "    from sklearn.linear_model import LinearRegression\n",
    "    modelo = LinearRegression()\n",
    "    modelo.fit(X_train, y_train)  # Treinando\n",
    "\n",
    "    r2_score = modelo.score(X_test, y_test)  # Avaliando\n",
    "    print(f\"R² score: {r2_score:.2f}\")\n",
    "except Exception as e:\n",
    "    print(f'Erro ao realizar a regressão linear: {e}')\n",
    "    exit()"
   ]
  },
  {
   "cell_type": "code",
   "execution_count": null,
   "metadata": {},
   "outputs": [],
   "source": [
    "try:\n",
    "    # Array de provisões 35000, 43000, 50000\n",
    "\n",
    "    array_roubo_veiculo_pred = np.array([35000, 43000, 50000])\n",
    "    array_roubo_veiculo_pred_scaled = scaler.transform(array_roubo_veiculo_pred.reshape(-1, 1))\n",
    "\n",
    "    recup_pred = modelo.predict(array_roubo_veiculo_pred_scaled)\n",
    "    print(\"Provisões de recuperação de veículos: \", recup_pred)\n",
    "\n",
    "except Exception as e:\n",
    "    print(f'Erro ao fazer previsões: {e}')\n",
    "    exit()\n"
   ]
  }
 ],
 "metadata": {
  "kernelspec": {
   "display_name": "venv",
   "language": "python",
   "name": "python3"
  },
  "language_info": {
   "codemirror_mode": {
    "name": "ipython",
    "version": 3
   },
   "file_extension": ".py",
   "mimetype": "text/x-python",
   "name": "python",
   "nbconvert_exporter": "python",
   "pygments_lexer": "ipython3",
   "version": "3.11.4"
  },
  "orig_nbformat": 4
 },
 "nbformat": 4,
 "nbformat_minor": 2
}
